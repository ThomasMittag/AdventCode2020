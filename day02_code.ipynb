{
 "metadata": {
  "language_info": {
   "codemirror_mode": {
    "name": "ipython",
    "version": 3
   },
   "file_extension": ".py",
   "mimetype": "text/x-python",
   "name": "python",
   "nbconvert_exporter": "python",
   "pygments_lexer": "ipython3",
   "version": "3.8.3-final"
  },
  "orig_nbformat": 2,
  "kernelspec": {
   "name": "python3",
   "display_name": "Python 3.8.3 64-bit",
   "metadata": {
    "interpreter": {
     "hash": "1ee38ef4a5a9feb55287fd749643f13d043cb0a7addaab2a9c224cbe137c0062"
    }
   }
  }
 },
 "nbformat": 4,
 "nbformat_minor": 2,
 "cells": [
  {
   "cell_type": "code",
   "execution_count": 21,
   "metadata": {},
   "outputs": [],
   "source": [
    "from re import split\n",
    "f = open(\"day02_input.txt\")\n",
    "passwords = [x.replace('\\n','') for x in f.readlines()]\n"
   ]
  },
  {
   "cell_type": "code",
   "execution_count": 47,
   "metadata": {},
   "outputs": [
    {
     "output_type": "execute_result",
     "data": {
      "text/plain": [
       "524"
      ]
     },
     "metadata": {},
     "execution_count": 47
    }
   ],
   "source": [
    "def validate_password_string(pw):\n",
    "    minmax,letter,password = split(r\":? \",pw)\n",
    "    minAmount, maxAmount = split(r\"-\",minmax)\n",
    "    return password.count(letter) >= int(minAmount) and password.count(letter) <= int(maxAmount)\n",
    "\n",
    "def count_valid_passwords(arr):\n",
    "    return sum([validate_password_string(x) for x in arr])\n",
    "\n",
    "\n",
    "count_valid_passwords(passwords)"
   ]
  },
  {
   "cell_type": "code",
   "execution_count": 36,
   "metadata": {},
   "outputs": [
    {
     "output_type": "execute_result",
     "data": {
      "text/plain": [
       "2"
      ]
     },
     "metadata": {},
     "execution_count": 36
    }
   ],
   "source": []
  },
  {
   "cell_type": "code",
   "execution_count": null,
   "metadata": {},
   "outputs": [],
   "source": []
  }
 ]
}