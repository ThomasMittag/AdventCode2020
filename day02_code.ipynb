{
 "metadata": {
  "language_info": {
   "codemirror_mode": {
    "name": "ipython",
    "version": 3
   },
   "file_extension": ".py",
   "mimetype": "text/x-python",
   "name": "python",
   "nbconvert_exporter": "python",
   "pygments_lexer": "ipython3",
   "version": "3.8.3-final"
  },
  "orig_nbformat": 2,
  "kernelspec": {
   "name": "python3",
   "display_name": "Python 3.8.3 64-bit",
   "metadata": {
    "interpreter": {
     "hash": "1ee38ef4a5a9feb55287fd749643f13d043cb0a7addaab2a9c224cbe137c0062"
    }
   }
  }
 },
 "nbformat": 4,
 "nbformat_minor": 2,
 "cells": [
  {
   "cell_type": "code",
   "execution_count": 21,
   "metadata": {},
   "outputs": [],
   "source": [
    "from re import split\n",
    "f = open(\"day02_input.txt\")\n",
    "passwords = [x.replace('\\n','') for x in f.readlines()]\n"
   ]
  },
  {
   "cell_type": "code",
   "execution_count": 48,
   "metadata": {},
   "outputs": [
    {
     "output_type": "execute_result",
     "data": {
      "text/plain": [
       "524"
      ]
     },
     "metadata": {},
     "execution_count": 48
    }
   ],
   "source": [
    "def validate_password_string(pw):\n",
    "    minmax,letter,password = split(r\":? \",pw)\n",
    "    min_amount, max_amount = split(r\"-\",minmax)\n",
    "    return password.count(letter) >= int(min_amount) and password.count(letter) <= int(max_amount)\n",
    "\n",
    "def count_valid_passwords(arr):\n",
    "    return sum([validate_password_string(x) for x in arr])\n",
    "\n",
    "\n",
    "count_valid_passwords(passwords)"
   ]
  },
  {
   "cell_type": "code",
   "execution_count": 84,
   "metadata": {},
   "outputs": [
    {
     "output_type": "execute_result",
     "data": {
      "text/plain": [
       "485"
      ]
     },
     "metadata": {},
     "execution_count": 84
    }
   ],
   "source": [
    "def validate_character_positions(pw):\n",
    "    minmax,letter,password = split(r\":? \",pw)\n",
    "    lower_pos, higher_pos = split(r\"-\",minmax)\n",
    "    return (password[int(lower_pos)-1] == letter) != (password[int(higher_pos)-1] == letter)\n",
    "\n",
    "sum([validate_character_positions(x) for x in passwords])"
   ]
  },
  {
   "cell_type": "code",
   "execution_count": 83,
   "metadata": {},
   "outputs": [
    {
     "output_type": "execute_result",
     "data": {
      "text/plain": [
       "False"
      ]
     },
     "metadata": {},
     "execution_count": 83
    }
   ],
   "source": []
  },
  {
   "cell_type": "code",
   "execution_count": 80,
   "metadata": {},
   "outputs": [
    {
     "output_type": "execute_result",
     "data": {
      "text/plain": [
       "'10-11 r: rrrrrrrrrrkr'"
      ]
     },
     "metadata": {},
     "execution_count": 80
    }
   ],
   "source": [
    "passwords[3]"
   ]
  },
  {
   "cell_type": "code",
   "execution_count": null,
   "metadata": {},
   "outputs": [],
   "source": []
  }
 ]
}