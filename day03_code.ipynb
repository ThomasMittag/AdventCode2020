{
 "cells": [
  {
   "cell_type": "code",
   "execution_count": 9,
   "metadata": {},
   "outputs": [],
   "source": [
    "from re import split\n",
    "f = open(\"day03_input.txt\")\n",
    "terrain = [x.replace('\\n','') for x in f.readlines()]\n",
    "STRATEGY = {\"right\":3,\"down\":1}\n",
    "STRATEGY[\"right\"]\n",
    "START_COORDINATE_X = 0\n",
    "START_COORDINATE_Y = 0\n"
   ]
  },
  {
   "cell_type": "code",
   "execution_count": 15,
   "metadata": {},
   "outputs": [],
   "source": [
    "def get_dimensions_of_terrain(obj):\n",
    "    return (len(obj[0]),len(obj))\n",
    "\n",
    "def transform_position_on_edges():\n",
    "    pass\n",
    "def check_if_finished():\n",
    "    # if at bottom return true else false\n",
    "    return True\n",
    "\n",
    "def count_trees_en_passent(terrain, strategy):\n",
    "    # for i in rows:\n",
    "        # apply next leg(strategy)\n",
    "        # check if finished\n",
    "    pass\n",
    "def apply_next_leg(strategy):\n",
    "    #go_horizontal\n",
    "        #check if switch needed\n",
    "    #go vertical\n",
    "    pass \n"
   ]
  },
  {
   "cell_type": "code",
   "execution_count": 16,
   "metadata": {},
   "outputs": [
    {
     "output_type": "execute_result",
     "data": {
      "text/plain": "(31, 323)"
     },
     "metadata": {},
     "execution_count": 16
    }
   ],
   "source": [
    "get_dimensions_of_terrain(terrain)"
   ]
  }
 ],
 "metadata": {
  "language_info": {
   "codemirror_mode": {
    "name": "ipython",
    "version": 3
   },
   "file_extension": ".py",
   "mimetype": "text/x-python",
   "name": "python",
   "nbconvert_exporter": "python",
   "pygments_lexer": "ipython3",
   "version": "3.8.3-final"
  },
  "orig_nbformat": 2,
  "kernelspec": {
   "name": "python_defaultSpec_1608417177503",
   "display_name": "Python 3.8.0 64-bit",
   "metadata": {
    "interpreter": {
     "hash": "1ee38ef4a5a9feb55287fd749643f13d043cb0a7addaab2a9c224cbe137c0062"
    }
   }
  }
 },
 "nbformat": 4,
 "nbformat_minor": 2
}