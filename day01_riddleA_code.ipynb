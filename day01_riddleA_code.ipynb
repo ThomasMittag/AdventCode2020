{
 "metadata": {
  "language_info": {
   "codemirror_mode": {
    "name": "ipython",
    "version": 3
   },
   "file_extension": ".py",
   "mimetype": "text/x-python",
   "name": "python",
   "nbconvert_exporter": "python",
   "pygments_lexer": "ipython3",
   "version": "3.8.3-final"
  },
  "orig_nbformat": 2,
  "kernelspec": {
   "name": "python3",
   "display_name": "Python 3.8.3 64-bit",
   "metadata": {
    "interpreter": {
     "hash": "1ee38ef4a5a9feb55287fd749643f13d043cb0a7addaab2a9c224cbe137c0062"
    }
   }
  }
 },
 "nbformat": 4,
 "nbformat_minor": 2,
 "cells": [
  {
   "cell_type": "code",
   "execution_count": 8,
   "metadata": {},
   "outputs": [],
   "source": [
    "GOALSUM = 2020\n",
    "f = open(\"day01_riddleA_input.txt\")\n",
    "numbers = sorted([int(x.replace('\\n','')) for x in f.readlines()])"
   ]
  },
  {
   "cell_type": "code",
   "execution_count": 23,
   "metadata": {},
   "outputs": [],
   "source": [
    "def find_2020_pair(arr):\n",
    "    for i in arr: \n",
    "        for j in arr: \n",
    "            if (i+j == 2020):\n",
    "                return i*j\n"
   ]
  },
  {
   "cell_type": "code",
   "execution_count": 24,
   "metadata": {},
   "outputs": [
    {
     "output_type": "execute_result",
     "data": {
      "text/plain": [
       "381699"
      ]
     },
     "metadata": {},
     "execution_count": 24
    }
   ],
   "source": [
    "find_2020_pair(numbers)"
   ]
  },
  {
   "cell_type": "code",
   "execution_count": 21,
   "metadata": {},
   "outputs": [],
   "source": [
    "def find_2020_triplet(arr):\n",
    "    for i in arr: \n",
    "        for j in arr: \n",
    "            for k in arr:\n",
    "                if (i+j+k == 2020):\n",
    "                    return i*j*k\n"
   ]
  },
  {
   "cell_type": "code",
   "execution_count": 26,
   "metadata": {},
   "outputs": [
    {
     "output_type": "execute_result",
     "data": {
      "text/plain": [
       "111605670"
      ]
     },
     "metadata": {},
     "execution_count": 26
    }
   ],
   "source": [
    "find_2020_triplet(numbers)"
   ]
  },
  {
   "cell_type": "code",
   "execution_count": null,
   "metadata": {},
   "outputs": [],
   "source": []
  }
 ]
}